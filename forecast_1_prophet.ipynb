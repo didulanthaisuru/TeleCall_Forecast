{
 "cells": [
  {
   "cell_type": "markdown",
   "id": "11d9447c",
   "metadata": {},
   "source": [
    "<h1>training phrase</h1>"
   ]
  },
  {
   "cell_type": "code",
   "execution_count": 1,
   "id": "e9a17040",
   "metadata": {},
   "outputs": [],
   "source": [
    "import pandas as pd"
   ]
  },
  {
   "cell_type": "code",
   "execution_count": 2,
   "id": "84beaeea",
   "metadata": {},
   "outputs": [],
   "source": [
    "df_train=pd.read_csv('data/train.csv')"
   ]
  },
  {
   "cell_type": "code",
   "execution_count": 4,
   "id": "8190160f",
   "metadata": {},
   "outputs": [
    {
     "name": "stdout",
     "output_type": "stream",
     "text": [
      "         date  calls   weekday  reservations_2months_advance  \\\n",
      "0  2014-01-31   2477    Friday                          2906   \n",
      "1  2014-02-01   1600  Saturday                          1360   \n",
      "2  2014-02-02   1310    Sunday                          1552   \n",
      "3  2014-02-03   2673    Monday                          2135   \n",
      "4  2014-02-04   2460   Tuesday                          2207   \n",
      "\n",
      "   total_reservations  summer_break  christmas_break  special_day  dayofweek  \\\n",
      "0               13759             0                0            0          4   \n",
      "1                9498             0                0            0          5   \n",
      "2                7815             0                0            0          6   \n",
      "3               15401             0                0            0          0   \n",
      "4               13840             0                0            0          1   \n",
      "\n",
      "   quarter  ...  reservations_ratio  calls_per_reservation  sin_dayofyear  \\\n",
      "0        1  ...            0.211192               0.180015       0.508356   \n",
      "1        1  ...            0.143173               0.168439       0.523094   \n",
      "2        1  ...            0.198567               0.167605       0.537677   \n",
      "3        1  ...            0.138618               0.173549       0.552101   \n",
      "4        1  ...            0.159454               0.177733       0.566362   \n",
      "\n",
      "   cos_dayofyear  days_until_christmas  days_since_christmas  \\\n",
      "0       0.861147                 325.0                    28   \n",
      "1       0.852275                 324.0                    29   \n",
      "2       0.843151                 323.0                    30   \n",
      "3       0.833777                 322.0                    31   \n",
      "4       0.824157                 321.0                    32   \n",
      "\n",
      "   days_since_summer  days_until_summer  days_since_special  \\\n",
      "0       1.000000e+09              150.0                  30   \n",
      "1       1.000000e+09              149.0                  31   \n",
      "2       1.000000e+09              148.0                  32   \n",
      "3       1.000000e+09              147.0                  33   \n",
      "4       1.000000e+09              146.0                  34   \n",
      "\n",
      "   days_until_special  \n",
      "0                58.0  \n",
      "1                57.0  \n",
      "2                56.0  \n",
      "3                55.0  \n",
      "4                54.0  \n",
      "\n",
      "[5 rows x 59 columns]\n"
     ]
    }
   ],
   "source": [
    "print(df_train.head())"
   ]
  },
  {
   "cell_type": "code",
   "execution_count": 3,
   "id": "fa3d25d6",
   "metadata": {},
   "outputs": [
    {
     "name": "stdout",
     "output_type": "stream",
     "text": [
      "<class 'pandas.core.frame.DataFrame'>\n",
      "RangeIndex: 608 entries, 0 to 607\n",
      "Data columns (total 59 columns):\n",
      " #   Column                        Non-Null Count  Dtype  \n",
      "---  ------                        --------------  -----  \n",
      " 0   date                          608 non-null    object \n",
      " 1   calls                         608 non-null    int64  \n",
      " 2   weekday                       608 non-null    object \n",
      " 3   reservations_2months_advance  608 non-null    int64  \n",
      " 4   total_reservations            608 non-null    int64  \n",
      " 5   summer_break                  608 non-null    int64  \n",
      " 6   christmas_break               608 non-null    int64  \n",
      " 7   special_day                   608 non-null    int64  \n",
      " 8   dayofweek                     608 non-null    int64  \n",
      " 9   quarter                       608 non-null    int64  \n",
      " 10  month                         608 non-null    int64  \n",
      " 11  year                          608 non-null    int64  \n",
      " 12  calls_lag_1                   608 non-null    float64\n",
      " 13  total_reservations_lag_1      608 non-null    float64\n",
      " 14  reservations_2months_lag_1    608 non-null    float64\n",
      " 15  calls_lag_7                   608 non-null    float64\n",
      " 16  total_reservations_lag_7      608 non-null    float64\n",
      " 17  reservations_2months_lag_7    608 non-null    float64\n",
      " 18  calls_lag_14                  608 non-null    float64\n",
      " 19  total_reservations_lag_14     608 non-null    float64\n",
      " 20  reservations_2months_lag_14   608 non-null    float64\n",
      " 21  calls_lag_30                  608 non-null    float64\n",
      " 22  total_reservations_lag_30     608 non-null    float64\n",
      " 23  reservations_2months_lag_30   608 non-null    float64\n",
      " 24  calls_roll_mean_7             608 non-null    float64\n",
      " 25  calls_roll_std_7              608 non-null    float64\n",
      " 26  calls_roll_min_7              608 non-null    float64\n",
      " 27  calls_roll_max_7              608 non-null    float64\n",
      " 28  reservations_roll_mean_7      608 non-null    float64\n",
      " 29  reservations_roll_std_7       608 non-null    float64\n",
      " 30  calls_roll_mean_14            608 non-null    float64\n",
      " 31  calls_roll_std_14             608 non-null    float64\n",
      " 32  calls_roll_min_14             608 non-null    float64\n",
      " 33  calls_roll_max_14             608 non-null    float64\n",
      " 34  reservations_roll_mean_14     608 non-null    float64\n",
      " 35  reservations_roll_std_14      608 non-null    float64\n",
      " 36  calls_roll_mean_30            608 non-null    float64\n",
      " 37  calls_roll_std_30             608 non-null    float64\n",
      " 38  calls_roll_min_30             608 non-null    float64\n",
      " 39  calls_roll_max_30             608 non-null    float64\n",
      " 40  reservations_roll_mean_30     608 non-null    float64\n",
      " 41  reservations_roll_std_30      608 non-null    float64\n",
      " 42  calls_cum_mean                608 non-null    float64\n",
      " 43  calls_cum_sum                 608 non-null    float64\n",
      " 44  reservations_cum_mean         608 non-null    float64\n",
      " 45  reservations_cum_sum          608 non-null    float64\n",
      " 46  is_weekend                    608 non-null    int64  \n",
      " 47  dayofyear                     608 non-null    int64  \n",
      " 48  weekofyear                    608 non-null    int64  \n",
      " 49  reservations_ratio            608 non-null    float64\n",
      " 50  calls_per_reservation         608 non-null    float64\n",
      " 51  sin_dayofyear                 608 non-null    float64\n",
      " 52  cos_dayofyear                 608 non-null    float64\n",
      " 53  days_until_christmas          608 non-null    float64\n",
      " 54  days_since_christmas          608 non-null    int64  \n",
      " 55  days_since_summer             608 non-null    float64\n",
      " 56  days_until_summer             608 non-null    float64\n",
      " 57  days_since_special            608 non-null    int64  \n",
      " 58  days_until_special            608 non-null    float64\n",
      "dtypes: float64(42), int64(15), object(2)\n",
      "memory usage: 280.4+ KB\n"
     ]
    },
    {
     "data": {
      "text/plain": [
       "date                            0\n",
       "calls                           0\n",
       "weekday                         0\n",
       "reservations_2months_advance    0\n",
       "total_reservations              0\n",
       "summer_break                    0\n",
       "christmas_break                 0\n",
       "special_day                     0\n",
       "dayofweek                       0\n",
       "quarter                         0\n",
       "month                           0\n",
       "year                            0\n",
       "calls_lag_1                     0\n",
       "total_reservations_lag_1        0\n",
       "reservations_2months_lag_1      0\n",
       "calls_lag_7                     0\n",
       "total_reservations_lag_7        0\n",
       "reservations_2months_lag_7      0\n",
       "calls_lag_14                    0\n",
       "total_reservations_lag_14       0\n",
       "reservations_2months_lag_14     0\n",
       "calls_lag_30                    0\n",
       "total_reservations_lag_30       0\n",
       "reservations_2months_lag_30     0\n",
       "calls_roll_mean_7               0\n",
       "calls_roll_std_7                0\n",
       "calls_roll_min_7                0\n",
       "calls_roll_max_7                0\n",
       "reservations_roll_mean_7        0\n",
       "reservations_roll_std_7         0\n",
       "calls_roll_mean_14              0\n",
       "calls_roll_std_14               0\n",
       "calls_roll_min_14               0\n",
       "calls_roll_max_14               0\n",
       "reservations_roll_mean_14       0\n",
       "reservations_roll_std_14        0\n",
       "calls_roll_mean_30              0\n",
       "calls_roll_std_30               0\n",
       "calls_roll_min_30               0\n",
       "calls_roll_max_30               0\n",
       "reservations_roll_mean_30       0\n",
       "reservations_roll_std_30        0\n",
       "calls_cum_mean                  0\n",
       "calls_cum_sum                   0\n",
       "reservations_cum_mean           0\n",
       "reservations_cum_sum            0\n",
       "is_weekend                      0\n",
       "dayofyear                       0\n",
       "weekofyear                      0\n",
       "reservations_ratio              0\n",
       "calls_per_reservation           0\n",
       "sin_dayofyear                   0\n",
       "cos_dayofyear                   0\n",
       "days_until_christmas            0\n",
       "days_since_christmas            0\n",
       "days_since_summer               0\n",
       "days_until_summer               0\n",
       "days_since_special              0\n",
       "days_until_special              0\n",
       "dtype: int64"
      ]
     },
     "execution_count": 3,
     "metadata": {},
     "output_type": "execute_result"
    }
   ],
   "source": [
    "df_train.head()\n",
    "df_train.info()\n",
    "df_train.describe()\n",
    "df_train.isnull().sum()"
   ]
  },
  {
   "cell_type": "markdown",
   "id": "3bd8e12b",
   "metadata": {},
   "source": [
    "<h1>start forecasting</h1>"
   ]
  },
  {
   "cell_type": "code",
   "execution_count": 5,
   "id": "d1711af4",
   "metadata": {},
   "outputs": [
    {
     "name": "stderr",
     "output_type": "stream",
     "text": [
      "c:\\isuru_dd\\tellcolll\\venv\\Lib\\site-packages\\tqdm\\auto.py:21: TqdmWarning: IProgress not found. Please update jupyter and ipywidgets. See https://ipywidgets.readthedocs.io/en/stable/user_install.html\n",
      "  from .autonotebook import tqdm as notebook_tqdm\n",
      "Importing plotly failed. Interactive plots will not work.\n"
     ]
    }
   ],
   "source": [
    "from prophet import Prophet\n",
    "from sklearn.metrics import mean_absolute_error, mean_squared_error, mean_absolute_percentage_error\n",
    "import matplotlib.pyplot as plt\n",
    "import seaborn as sns\n",
    "from datetime import timedelta\n",
    "import warnings\n",
    "warnings.filterwarnings('ignore')"
   ]
  },
  {
   "cell_type": "code",
   "execution_count": 6,
   "id": "77c0fe8e",
   "metadata": {},
   "outputs": [],
   "source": [
    "plt.style.use('seaborn-v0_8-darkgrid')\n",
    "sns.set_palette(\"husl\")"
   ]
  },
  {
   "cell_type": "code",
   "execution_count": 7,
   "id": "e31e090e",
   "metadata": {},
   "outputs": [],
   "source": [
    "train_df=df_train.copy()"
   ]
  },
  {
   "cell_type": "code",
   "execution_count": 8,
   "id": "5044f9bc",
   "metadata": {},
   "outputs": [],
   "source": [
    "#convert date to datetime\n",
    "train_df['date']=pd.to_datetime(train_df['date'])"
   ]
  },
  {
   "cell_type": "code",
   "execution_count": 9,
   "id": "66cae3d0",
   "metadata": {},
   "outputs": [
    {
     "name": "stdout",
     "output_type": "stream",
     "text": [
      "Train set: 487 days (2014-01-31 00:00:00 to 2015-06-01 00:00:00)\n",
      "Validation set: 121 days (2015-06-02 00:00:00 to 2015-09-30 00:00:00)\n"
     ]
    }
   ],
   "source": [
    "# Use last 20% of training data for validation (approximately 122 days)\n",
    "val_size = int(len(train_df) * 0.2)\n",
    "train_data = train_df.iloc[:-val_size].copy()\n",
    "val_data = train_df.iloc[-val_size:].copy()\n",
    "\n",
    "print(f\"Train set: {len(train_data)} days ({train_data['date'].min()} to {train_data['date'].max()})\")\n",
    "print(f\"Validation set: {len(val_data)} days ({val_data['date'].min()} to {val_data['date'].max()})\")"
   ]
  },
  {
   "cell_type": "code",
   "execution_count": 10,
   "id": "d52fd72b",
   "metadata": {},
   "outputs": [],
   "source": [
    "# Prophet requires 'ds' (date) and 'y' (target) columns\n",
    "prophet_train = pd.DataFrame({\n",
    "    'ds': train_data['date'],\n",
    "    'y': train_data['calls']\n",
    "})"
   ]
  },
  {
   "cell_type": "code",
   "execution_count": 11,
   "id": "e90e74b1",
   "metadata": {},
   "outputs": [],
   "source": [
    "# Add relevant regressors - selecting most important features\n",
    "# Avoid lag features and rolling stats as they would need complex future calculations\n",
    "regressors = [\n",
    "    'total_reservations',\n",
    "    'reservations_2months_advance',\n",
    "    'summer_break',\n",
    "    'christmas_break',\n",
    "    'special_day',\n",
    "    'is_weekend',\n",
    "    'dayofweek',\n",
    "    'month',\n",
    "    'quarter'\n",
    "]"
   ]
  },
  {
   "cell_type": "code",
   "execution_count": 12,
   "id": "88379b53",
   "metadata": {},
   "outputs": [
    {
     "name": "stdout",
     "output_type": "stream",
     "text": [
      "Prophet training dataframe shape: (487, 11)\n",
      "Regressors included: ['total_reservations', 'reservations_2months_advance', 'summer_break', 'christmas_break', 'special_day', 'is_weekend', 'dayofweek', 'month', 'quarter']\n"
     ]
    }
   ],
   "source": [
    "for reg in regressors:\n",
    "    prophet_train[reg] = train_data[reg].values\n",
    "\n",
    "print(f\"Prophet training dataframe shape: {prophet_train.shape}\")\n",
    "print(f\"Regressors included: {regressors}\")"
   ]
  },
  {
   "cell_type": "code",
   "execution_count": null,
   "id": "f48c678a",
   "metadata": {},
   "outputs": [],
   "source": []
  }
 ],
 "metadata": {
  "kernelspec": {
   "display_name": "venv",
   "language": "python",
   "name": "python3"
  },
  "language_info": {
   "codemirror_mode": {
    "name": "ipython",
    "version": 3
   },
   "file_extension": ".py",
   "mimetype": "text/x-python",
   "name": "python",
   "nbconvert_exporter": "python",
   "pygments_lexer": "ipython3",
   "version": "3.13.7"
  }
 },
 "nbformat": 4,
 "nbformat_minor": 5
}

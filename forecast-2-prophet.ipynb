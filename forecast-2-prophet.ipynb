{
 "cells": [
  {
   "cell_type": "code",
   "execution_count": 1,
   "id": "4f30a786",
   "metadata": {},
   "outputs": [],
   "source": [
    "import numpy as np\n",
    "import pandas as pd"
   ]
  },
  {
   "cell_type": "code",
   "execution_count": 2,
   "id": "cb6a799a",
   "metadata": {},
   "outputs": [],
   "source": [
    "from prophet import Prophet\n",
    "import seaborn as sns\n",
    "import matplotlib.pyplot as plt\n",
    "from sklearn.metrics import mean_squared_error, mean_absolute_error\n",
    "from statsmodels.tsa.stattools import adfuller"
   ]
  },
  {
   "cell_type": "code",
   "execution_count": 4,
   "id": "235dee10",
   "metadata": {},
   "outputs": [],
   "source": [
    "df=pd.read_csv('data/case_data_calls_reservations_preprocessed.csv')"
   ]
  },
  {
   "cell_type": "code",
   "execution_count": 5,
   "id": "5bc0df78",
   "metadata": {},
   "outputs": [
    {
     "name": "stdout",
     "output_type": "stream",
     "text": [
      "         date  calls  weekday  reservations_2months_advance  \\\n",
      "0  2014-01-01   1327        3                          1494   \n",
      "1  2014-01-02   3417        4                          2891   \n",
      "2  2014-01-03   3178        5                          2790   \n",
      "3  2014-01-04   1767        6                          2504   \n",
      "4  2014-01-05   1374        7                          1522   \n",
      "\n",
      "   total_reservations  summer_break  christmas_break  special_day  \n",
      "0                7794             0                1            1  \n",
      "1               20074             0                1            0  \n",
      "2               17905             0                1            0  \n",
      "3               10880             0                0            0  \n",
      "4                8333             0                0            0  \n"
     ]
    }
   ],
   "source": [
    "print(df.head())"
   ]
  },
  {
   "cell_type": "code",
   "execution_count": 6,
   "id": "144bd2b3",
   "metadata": {},
   "outputs": [
    {
     "name": "stdout",
     "output_type": "stream",
     "text": [
      "<class 'pandas.core.frame.DataFrame'>\n",
      "RangeIndex: 790 entries, 0 to 789\n",
      "Data columns (total 8 columns):\n",
      " #   Column                        Non-Null Count  Dtype \n",
      "---  ------                        --------------  ----- \n",
      " 0   date                          790 non-null    object\n",
      " 1   calls                         790 non-null    int64 \n",
      " 2   weekday                       790 non-null    int64 \n",
      " 3   reservations_2months_advance  790 non-null    int64 \n",
      " 4   total_reservations            790 non-null    int64 \n",
      " 5   summer_break                  790 non-null    int64 \n",
      " 6   christmas_break               790 non-null    int64 \n",
      " 7   special_day                   790 non-null    int64 \n",
      "dtypes: int64(7), object(1)\n",
      "memory usage: 49.5+ KB\n"
     ]
    }
   ],
   "source": [
    "df.info()"
   ]
  },
  {
   "cell_type": "code",
   "execution_count": null,
   "id": "8ecb695a",
   "metadata": {},
   "outputs": [],
   "source": []
  }
 ],
 "metadata": {
  "kernelspec": {
   "display_name": "venv",
   "language": "python",
   "name": "python3"
  },
  "language_info": {
   "codemirror_mode": {
    "name": "ipython",
    "version": 3
   },
   "file_extension": ".py",
   "mimetype": "text/x-python",
   "name": "python",
   "nbconvert_exporter": "python",
   "pygments_lexer": "ipython3",
   "version": "3.13.7"
  }
 },
 "nbformat": 4,
 "nbformat_minor": 5
}

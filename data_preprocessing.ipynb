{
 "cells": [
  {
   "cell_type": "code",
   "execution_count": 2,
   "id": "11c98318",
   "metadata": {},
   "outputs": [],
   "source": [
    "import pandas as pd\n",
    "import numpy as np\n",
    "import matplotlib.pyplot as plt"
   ]
  },
  {
   "cell_type": "code",
   "execution_count": 3,
   "id": "d4d2945f",
   "metadata": {},
   "outputs": [],
   "source": [
    "pd1=pd.read_csv('data/case_data_calls.csv')"
   ]
  },
  {
   "cell_type": "code",
   "execution_count": 5,
   "id": "e341d97c",
   "metadata": {},
   "outputs": [
    {
     "name": "stdout",
     "output_type": "stream",
     "text": [
      "  date;calls;weekday\n",
      "0    1-1-2013;2429;2\n",
      "1    2-1-2013;3881;3\n",
      "2    3-1-2013;3560;4\n",
      "3    4-1-2013;3155;5\n",
      "4    5-1-2013;1538;6\n"
     ]
    }
   ],
   "source": [
    "print(pd1.head())"
   ]
  },
  {
   "cell_type": "code",
   "execution_count": 6,
   "id": "e48b4909",
   "metadata": {},
   "outputs": [],
   "source": [
    "pd2=pd.read_csv('data/case_data_reservations.csv')"
   ]
  },
  {
   "cell_type": "code",
   "execution_count": 7,
   "id": "7eaa7718",
   "metadata": {},
   "outputs": [
    {
     "name": "stdout",
     "output_type": "stream",
     "text": [
      "  date;reservations_2months_advance;total_reservations;summer_break;christmas_break;special_day\n",
      "0                           1-1-2014;1494;7794;0;1;1                                           \n",
      "1                          2-1-2014;2891;20074;0;1;0                                           \n",
      "2                          3-1-2014;2790;17905;0;1;0                                           \n",
      "3                          4-1-2014;2504;10880;0;0;0                                           \n",
      "4                           5-1-2014;1522;8333;0;0;0                                           \n"
     ]
    }
   ],
   "source": [
    "print(pd2.head())"
   ]
  },
  {
   "cell_type": "code",
   "execution_count": null,
   "id": "ad01f318",
   "metadata": {},
   "outputs": [],
   "source": []
  }
 ],
 "metadata": {
  "kernelspec": {
   "display_name": "venv",
   "language": "python",
   "name": "python3"
  },
  "language_info": {
   "codemirror_mode": {
    "name": "ipython",
    "version": 3
   },
   "file_extension": ".py",
   "mimetype": "text/x-python",
   "name": "python",
   "nbconvert_exporter": "python",
   "pygments_lexer": "ipython3",
   "version": "3.13.7"
  }
 },
 "nbformat": 4,
 "nbformat_minor": 5
}

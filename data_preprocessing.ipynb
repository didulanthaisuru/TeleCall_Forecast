{
 "cells": [
  {
   "cell_type": "code",
   "execution_count": 2,
   "id": "11c98318",
   "metadata": {},
   "outputs": [],
   "source": [
    "import pandas as pd\n",
    "import numpy as np\n",
    "import matplotlib.pyplot as plt"
   ]
  },
  {
   "cell_type": "code",
   "execution_count": 9,
   "id": "d4d2945f",
   "metadata": {},
   "outputs": [],
   "source": [
    "pd1=pd.read_csv('data/case_data_calls.csv',delimiter=';')"
   ]
  },
  {
   "cell_type": "code",
   "execution_count": 10,
   "id": "e341d97c",
   "metadata": {},
   "outputs": [
    {
     "name": "stdout",
     "output_type": "stream",
     "text": [
      "       date  calls  weekday\n",
      "0  1-1-2013   2429        2\n",
      "1  2-1-2013   3881        3\n",
      "2  3-1-2013   3560        4\n",
      "3  4-1-2013   3155        5\n",
      "4  5-1-2013   1538        6\n"
     ]
    }
   ],
   "source": [
    "print(pd1.head())"
   ]
  },
  {
   "cell_type": "code",
   "execution_count": 11,
   "id": "e48b4909",
   "metadata": {},
   "outputs": [],
   "source": [
    "pd2=pd.read_csv('data/case_data_reservations.csv', delimiter=';')"
   ]
  },
  {
   "cell_type": "code",
   "execution_count": 12,
   "id": "7eaa7718",
   "metadata": {},
   "outputs": [
    {
     "name": "stdout",
     "output_type": "stream",
     "text": [
      "       date  reservations_2months_advance  total_reservations  summer_break  \\\n",
      "0  1-1-2014                          1494                7794             0   \n",
      "1  2-1-2014                          2891               20074             0   \n",
      "2  3-1-2014                          2790               17905             0   \n",
      "3  4-1-2014                          2504               10880             0   \n",
      "4  5-1-2014                          1522                8333             0   \n",
      "\n",
      "   christmas_break  special_day  \n",
      "0                1            1  \n",
      "1                1            0  \n",
      "2                1            0  \n",
      "3                0            0  \n",
      "4                0            0  \n"
     ]
    }
   ],
   "source": [
    "print(pd2.head())"
   ]
  },
  {
   "cell_type": "code",
   "execution_count": 13,
   "id": "ad01f318",
   "metadata": {},
   "outputs": [],
   "source": [
    "df=pd1.merge(pd2, left_on='date' , right_on='date')"
   ]
  },
  {
   "cell_type": "code",
   "execution_count": 14,
   "id": "44994ab5",
   "metadata": {},
   "outputs": [
    {
     "data": {
      "text/html": [
       "<div>\n",
       "<style scoped>\n",
       "    .dataframe tbody tr th:only-of-type {\n",
       "        vertical-align: middle;\n",
       "    }\n",
       "\n",
       "    .dataframe tbody tr th {\n",
       "        vertical-align: top;\n",
       "    }\n",
       "\n",
       "    .dataframe thead th {\n",
       "        text-align: right;\n",
       "    }\n",
       "</style>\n",
       "<table border=\"1\" class=\"dataframe\">\n",
       "  <thead>\n",
       "    <tr style=\"text-align: right;\">\n",
       "      <th></th>\n",
       "      <th>date</th>\n",
       "      <th>calls</th>\n",
       "      <th>weekday</th>\n",
       "      <th>reservations_2months_advance</th>\n",
       "      <th>total_reservations</th>\n",
       "      <th>summer_break</th>\n",
       "      <th>christmas_break</th>\n",
       "      <th>special_day</th>\n",
       "    </tr>\n",
       "  </thead>\n",
       "  <tbody>\n",
       "    <tr>\n",
       "      <th>0</th>\n",
       "      <td>1-1-2014</td>\n",
       "      <td>1327</td>\n",
       "      <td>3</td>\n",
       "      <td>1494</td>\n",
       "      <td>7794</td>\n",
       "      <td>0</td>\n",
       "      <td>1</td>\n",
       "      <td>1</td>\n",
       "    </tr>\n",
       "    <tr>\n",
       "      <th>1</th>\n",
       "      <td>2-1-2014</td>\n",
       "      <td>3417</td>\n",
       "      <td>4</td>\n",
       "      <td>2891</td>\n",
       "      <td>20074</td>\n",
       "      <td>0</td>\n",
       "      <td>1</td>\n",
       "      <td>0</td>\n",
       "    </tr>\n",
       "    <tr>\n",
       "      <th>2</th>\n",
       "      <td>3-1-2014</td>\n",
       "      <td>3178</td>\n",
       "      <td>5</td>\n",
       "      <td>2790</td>\n",
       "      <td>17905</td>\n",
       "      <td>0</td>\n",
       "      <td>1</td>\n",
       "      <td>0</td>\n",
       "    </tr>\n",
       "    <tr>\n",
       "      <th>3</th>\n",
       "      <td>4-1-2014</td>\n",
       "      <td>1767</td>\n",
       "      <td>6</td>\n",
       "      <td>2504</td>\n",
       "      <td>10880</td>\n",
       "      <td>0</td>\n",
       "      <td>0</td>\n",
       "      <td>0</td>\n",
       "    </tr>\n",
       "    <tr>\n",
       "      <th>4</th>\n",
       "      <td>5-1-2014</td>\n",
       "      <td>1374</td>\n",
       "      <td>7</td>\n",
       "      <td>1522</td>\n",
       "      <td>8333</td>\n",
       "      <td>0</td>\n",
       "      <td>0</td>\n",
       "      <td>0</td>\n",
       "    </tr>\n",
       "  </tbody>\n",
       "</table>\n",
       "</div>"
      ],
      "text/plain": [
       "       date  calls  weekday  reservations_2months_advance  total_reservations  \\\n",
       "0  1-1-2014   1327        3                          1494                7794   \n",
       "1  2-1-2014   3417        4                          2891               20074   \n",
       "2  3-1-2014   3178        5                          2790               17905   \n",
       "3  4-1-2014   1767        6                          2504               10880   \n",
       "4  5-1-2014   1374        7                          1522                8333   \n",
       "\n",
       "   summer_break  christmas_break  special_day  \n",
       "0             0                1            1  \n",
       "1             0                1            0  \n",
       "2             0                1            0  \n",
       "3             0                0            0  \n",
       "4             0                0            0  "
      ]
     },
     "execution_count": 14,
     "metadata": {},
     "output_type": "execute_result"
    }
   ],
   "source": [
    "df.head()"
   ]
  },
  {
   "cell_type": "code",
   "execution_count": null,
   "id": "78b3f3c8",
   "metadata": {},
   "outputs": [],
   "source": []
  }
 ],
 "metadata": {
  "kernelspec": {
   "display_name": "venv",
   "language": "python",
   "name": "python3"
  },
  "language_info": {
   "codemirror_mode": {
    "name": "ipython",
    "version": 3
   },
   "file_extension": ".py",
   "mimetype": "text/x-python",
   "name": "python",
   "nbconvert_exporter": "python",
   "pygments_lexer": "ipython3",
   "version": "3.13.7"
  }
 },
 "nbformat": 4,
 "nbformat_minor": 5
}

{
 "cells": [
  {
   "cell_type": "code",
   "execution_count": 1,
   "id": "b7769393",
   "metadata": {},
   "outputs": [],
   "source": [
    "import pandas as pd\n",
    "import numpy as np"
   ]
  },
  {
   "cell_type": "code",
   "execution_count": 2,
   "id": "fe956b30",
   "metadata": {},
   "outputs": [],
   "source": [
    "df=pd.read_csv('data/case_data_calls_reservations_preprocessed.csv')"
   ]
  },
  {
   "cell_type": "code",
   "execution_count": 3,
   "id": "ed134c1c",
   "metadata": {},
   "outputs": [
    {
     "data": {
      "text/html": [
       "<div>\n",
       "<style scoped>\n",
       "    .dataframe tbody tr th:only-of-type {\n",
       "        vertical-align: middle;\n",
       "    }\n",
       "\n",
       "    .dataframe tbody tr th {\n",
       "        vertical-align: top;\n",
       "    }\n",
       "\n",
       "    .dataframe thead th {\n",
       "        text-align: right;\n",
       "    }\n",
       "</style>\n",
       "<table border=\"1\" class=\"dataframe\">\n",
       "  <thead>\n",
       "    <tr style=\"text-align: right;\">\n",
       "      <th></th>\n",
       "      <th>date</th>\n",
       "      <th>calls</th>\n",
       "      <th>weekday</th>\n",
       "      <th>reservations_2months_advance</th>\n",
       "      <th>total_reservations</th>\n",
       "      <th>summer_break</th>\n",
       "      <th>christmas_break</th>\n",
       "      <th>special_day</th>\n",
       "    </tr>\n",
       "  </thead>\n",
       "  <tbody>\n",
       "    <tr>\n",
       "      <th>0</th>\n",
       "      <td>2014-01-01</td>\n",
       "      <td>1327</td>\n",
       "      <td>3</td>\n",
       "      <td>1494</td>\n",
       "      <td>7794</td>\n",
       "      <td>0</td>\n",
       "      <td>1</td>\n",
       "      <td>1</td>\n",
       "    </tr>\n",
       "    <tr>\n",
       "      <th>1</th>\n",
       "      <td>2014-01-02</td>\n",
       "      <td>3417</td>\n",
       "      <td>4</td>\n",
       "      <td>2891</td>\n",
       "      <td>20074</td>\n",
       "      <td>0</td>\n",
       "      <td>1</td>\n",
       "      <td>0</td>\n",
       "    </tr>\n",
       "    <tr>\n",
       "      <th>2</th>\n",
       "      <td>2014-01-03</td>\n",
       "      <td>3178</td>\n",
       "      <td>5</td>\n",
       "      <td>2790</td>\n",
       "      <td>17905</td>\n",
       "      <td>0</td>\n",
       "      <td>1</td>\n",
       "      <td>0</td>\n",
       "    </tr>\n",
       "    <tr>\n",
       "      <th>3</th>\n",
       "      <td>2014-01-04</td>\n",
       "      <td>1767</td>\n",
       "      <td>6</td>\n",
       "      <td>2504</td>\n",
       "      <td>10880</td>\n",
       "      <td>0</td>\n",
       "      <td>0</td>\n",
       "      <td>0</td>\n",
       "    </tr>\n",
       "    <tr>\n",
       "      <th>4</th>\n",
       "      <td>2014-01-05</td>\n",
       "      <td>1374</td>\n",
       "      <td>7</td>\n",
       "      <td>1522</td>\n",
       "      <td>8333</td>\n",
       "      <td>0</td>\n",
       "      <td>0</td>\n",
       "      <td>0</td>\n",
       "    </tr>\n",
       "  </tbody>\n",
       "</table>\n",
       "</div>"
      ],
      "text/plain": [
       "         date  calls  weekday  reservations_2months_advance  \\\n",
       "0  2014-01-01   1327        3                          1494   \n",
       "1  2014-01-02   3417        4                          2891   \n",
       "2  2014-01-03   3178        5                          2790   \n",
       "3  2014-01-04   1767        6                          2504   \n",
       "4  2014-01-05   1374        7                          1522   \n",
       "\n",
       "   total_reservations  summer_break  christmas_break  special_day  \n",
       "0                7794             0                1            1  \n",
       "1               20074             0                1            0  \n",
       "2               17905             0                1            0  \n",
       "3               10880             0                0            0  \n",
       "4                8333             0                0            0  "
      ]
     },
     "execution_count": 3,
     "metadata": {},
     "output_type": "execute_result"
    }
   ],
   "source": [
    "df.head()"
   ]
  },
  {
   "cell_type": "code",
   "execution_count": 4,
   "id": "8e4f37ef",
   "metadata": {},
   "outputs": [
    {
     "name": "stdout",
     "output_type": "stream",
     "text": [
      "<class 'pandas.core.frame.DataFrame'>\n",
      "RangeIndex: 790 entries, 0 to 789\n",
      "Data columns (total 8 columns):\n",
      " #   Column                        Non-Null Count  Dtype \n",
      "---  ------                        --------------  ----- \n",
      " 0   date                          790 non-null    object\n",
      " 1   calls                         790 non-null    int64 \n",
      " 2   weekday                       790 non-null    int64 \n",
      " 3   reservations_2months_advance  790 non-null    int64 \n",
      " 4   total_reservations            790 non-null    int64 \n",
      " 5   summer_break                  790 non-null    int64 \n",
      " 6   christmas_break               790 non-null    int64 \n",
      " 7   special_day                   790 non-null    int64 \n",
      "dtypes: int64(7), object(1)\n",
      "memory usage: 49.5+ KB\n"
     ]
    }
   ],
   "source": [
    "df.info()"
   ]
  },
  {
   "cell_type": "code",
   "execution_count": null,
   "id": "4df64153",
   "metadata": {},
   "outputs": [],
   "source": []
  }
 ],
 "metadata": {
  "kernelspec": {
   "display_name": "venv",
   "language": "python",
   "name": "python3"
  },
  "language_info": {
   "codemirror_mode": {
    "name": "ipython",
    "version": 3
   },
   "file_extension": ".py",
   "mimetype": "text/x-python",
   "name": "python",
   "nbconvert_exporter": "python",
   "pygments_lexer": "ipython3",
   "version": "3.13.7"
  }
 },
 "nbformat": 4,
 "nbformat_minor": 5
}
